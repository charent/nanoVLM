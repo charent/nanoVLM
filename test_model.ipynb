{
 "cells": [
  {
   "cell_type": "code",
   "execution_count": 1,
   "id": "8d2a2ed6",
   "metadata": {},
   "outputs": [],
   "source": [
    "from models.config import VLMConfig\n",
    "from models.vision_language_model import VisionLanguageModel\n",
    "from models.processors import get_tokenizer, get_image_processor, vlm_input_apply_chat_template\n",
    "import torch\n",
    "from PIL import Image\n",
    "import os\n"
   ]
  },
  {
   "cell_type": "code",
   "execution_count": 8,
   "id": "9dfbad79",
   "metadata": {},
   "outputs": [
    {
     "name": "stdout",
     "output_type": "stream",
     "text": [
      "Loading weights from pretrained\n"
     ]
    }
   ],
   "source": [
    "check_point_dir = r'output_model/vlm_pretrain/checkpoint-435'\n",
    "device = 'cuda:0'\n",
    "\n",
    "config = VLMConfig()\n",
    "model = VisionLanguageModel.from_pretrained(check_point_dir, config=config).to(device)\n",
    "\n",
    "tokenizer = get_tokenizer(check_point_dir, config.vlm_extra_tokens, config.lm_chat_template)\n",
    "image_processor = get_image_processor(config.vm_input_image_size)"
   ]
  },
  {
   "cell_type": "code",
   "execution_count": 15,
   "id": "ed684815",
   "metadata": {},
   "outputs": [],
   "source": [
    "messages = [\n",
    "    {\n",
    "        \"role\": \"user\",\n",
    "        \"content\": [\n",
    "             {\"type\": \"text\", \"text\": \"描述一下这张图片\"},\n",
    "            {\n",
    "                \"type\": \"image\",\n",
    "                \"image\": \"\",\n",
    "            },\n",
    "           \n",
    "        ],\n",
    "    }\n",
    "]\n",
    "\n",
    "inputs = vlm_input_apply_chat_template(tokenizer, messages,).to(device)\n",
    "\n",
    "img = Image.open(r'assets\\nanoVLM-222M-loss.png').convert(\"RGB\")\n",
    "img_t = image_processor(img).unsqueeze(0).to(device)"
   ]
  },
  {
   "cell_type": "code",
   "execution_count": 16,
   "id": "e7dc1482",
   "metadata": {},
   "outputs": [
    {
     "name": "stdout",
     "output_type": "stream",
     "text": [
      "图片显示了一个网格，其中包含一个矩形区域，背景是白色的。在网格中，有三个矩形，每个矩形代表一个不同的类别。左边的矩形是“动物”，其颜色为深蓝色，里面有一个棕色的条纹。它的颜色是深蓝色，条纹是棕色\n"
     ]
    }
   ],
   "source": [
    "gen = model.generate(inputs['input_ids'], img_t, max_new_tokens=64)\n",
    "out = tokenizer.batch_decode(gen, skip_special_tokens=True)[0]\n",
    "print(out)"
   ]
  }
 ],
 "metadata": {
  "kernelspec": {
   "display_name": "py312",
   "language": "python",
   "name": "python3"
  },
  "language_info": {
   "codemirror_mode": {
    "name": "ipython",
    "version": 3
   },
   "file_extension": ".py",
   "mimetype": "text/x-python",
   "name": "python",
   "nbconvert_exporter": "python",
   "pygments_lexer": "ipython3",
   "version": "3.12.11"
  }
 },
 "nbformat": 4,
 "nbformat_minor": 5
}
